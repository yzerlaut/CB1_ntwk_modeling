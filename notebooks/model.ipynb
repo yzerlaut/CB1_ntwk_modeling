{
 "cells": [
  {
   "cell_type": "code",
   "execution_count": 1,
   "metadata": {},
   "outputs": [],
   "source": [
    "import sys, os\n",
    "import numpy as np\n",
    "\n",
    "sys.path += ['./datavyz', './neural_network_dynamics', './code']\n",
    "from datavyz import graph_env_manuscript as ge"
   ]
  },
  {
   "cell_type": "markdown",
   "metadata": {},
   "source": [
    "### A demo fig for the effect of CB1-signalling on L23 PN"
   ]
  },
  {
   "cell_type": "code",
   "execution_count": 4,
   "metadata": {},
   "outputs": [
    {
     "data": {
      "image/png": "[encoded data removed]",
      "text/plain": [
       "<Figure size 758.268x94.8472 with 3 Axes>"
      ]
     },
     "metadata": {},
     "output_type": "display_data"
    }
   ],
   "source": [
    "# Poisson process\n",
    "np.random.seed(10)\n",
    "CB1_rate = 150. # Hz\n",
    "gCB10 = 10\n",
    "tstop, tstop_PV, tshift, dt = 2000e-3, 500e-3, 50e-3, 1e-4\n",
    "t = np.arange(int(tstop/dt))*dt\n",
    "t_PV = np.arange(int(tstop_PV/dt))*dt\n",
    "pre_events = np.cumsum(np.random.exponential(1./CB1_rate, int(1.5*tstop*CB1_rate)))\n",
    "pre_events = pre_events[pre_events<tstop]\n",
    "pre_events_PV = np.cumsum(np.random.exponential(1./CB1_rate, int(1.5*tstop_PV*CB1_rate)))\n",
    "pre_events_PV = pre_events[pre_events<tstop_PV]\n",
    "\n",
    "# synaptic integration\n",
    "release_prob0, Tau = 1., 5e-3\n",
    "shifts=np.cumsum(np.concatenate([[0], [0.1], np.ones(6)*80e-3, np.ones(5)*200e-3, np.ones(3)*60e-3]))\n",
    "# shifts=np.linspace(0, tstop, 11)\n",
    "Nlevels = 4\n",
    "release_prob, signalling, current = 0*t+1, 0*t, 0*t\n",
    "current_PV = 0*t_PV\n",
    "\n",
    "for i, s in enumerate(shifts):\n",
    "    release_prob[t>=s] = release_prob0*(1-i/(len(shifts)-1))\n",
    "\n",
    "fig, [ax1,ax3,ax2] = ge.figure(axes_extents=[[[1,2]],\n",
    "                                        [[1,8]],\n",
    "                                        [[1,8]]],\n",
    "                    figsize=(2.5,.07), left=3)\n",
    "\n",
    "for e in pre_events:\n",
    "    ax1.plot([e,e], [0,1], color=ge.orange, lw=0.5)\n",
    "    it = int(e/dt)\n",
    "    if np.random.uniform(0,1)<release_prob[it]:\n",
    "        current[it:it+int(1/dt)] += gCB10*np.exp(-(t[it:it+int(1/dt)]-t[it])/Tau) \n",
    "\n",
    "for e in pre_events_PV:\n",
    "    ax1.plot([t[-1]+tshift+e,t[-1]+tshift+e], [0,1], color=ge.purple, lw=0.5)\n",
    "    it = int(e/dt)\n",
    "    current_PV[it:it+int(1/dt)] += gCB10*np.exp(-(t_PV[it:it+int(1/dt)]-t_PV[it])/Tau) \n",
    "\n",
    "ax2.plot(t, current, color=ge.orange, lw=1)\n",
    "ax2.plot(t[-1]+tshift+t_PV, current_PV, color=ge.purple, lw=1)\n",
    "ax3.plot(t[-1]+tshift+t_PV, 1+0*t_PV, color=ge.dimgrey, lw=1)\n",
    "ax3.plot(t, release_prob, lw=1, color=ge.dimgrey)\n",
    "ax3.plot(t, 0*t+0.5, ':', lw=0.5, color=ge.dimgrey, label='V1')\n",
    "ax3.plot(t, 0*t+0.25, ':', lw=0.5, color=ge.dimgrey, label='V2M')\n",
    "\n",
    "ge.draw_bar_scales(ax2, Xbar=0.05, Xbar_label='50ms', Ybar=1e-12, loc='top-right')\n",
    "ge.set_plot(ax1, [])\n",
    "ge.set_plot(ax2, ['left'], ylabel='$g$ (nS)')\n",
    "ge.set_plot(ax3, ['left'], ylabel='$p_{syn}$', yticks=[0,0.5,1])\n",
    "ge.annotate(ax1, 'PV spike train      ', (1, 1), ha='right', color=ge.purple)\n",
    "ge.annotate(ax1, 'CB1 spike train', (0.2, 1), ha='left', color=ge.orange)\n",
    "fig.savefig('../doc/release-prob.svg')"
   ]
  },
  {
   "cell_type": "code",
   "execution_count": null,
   "metadata": {},
   "outputs": [],
   "source": []
  }
 ],
 "metadata": {
  "kernelspec": {
   "display_name": "Python 3 (ipykernel)",
   "language": "python",
   "name": "python3"
  },
  "language_info": {
   "codemirror_mode": {
    "name": "ipython",
    "version": 3
   },
   "file_extension": ".py",
   "mimetype": "text/x-python",
   "name": "python",
   "nbconvert_exporter": "python",
   "pygments_lexer": "ipython3",
   "version": "3.8.3"
  }
 },
 "nbformat": 4,
 "nbformat_minor": 4
}
