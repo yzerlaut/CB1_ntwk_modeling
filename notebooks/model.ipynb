{
 "cells": [
  {
   "cell_type": "code",
   "execution_count": 1,
   "metadata": {},
   "outputs": [],
   "source": [
    "import sys, os\n",
    "import numpy as np\n",
    "\n",
    "sys.path += ['./datavyz', './neural_network_dynamics', './code']\n",
    "from datavyz import graph_env_manuscript as ge"
   ]
  },
  {
   "cell_type": "markdown",
   "metadata": {},
   "source": [
    "### A demo fig for the effect of CB1-signalling on L23 PN"
   ]
  },
  {
   "cell_type": "code",
   "execution_count": 24,
   "metadata": {},
   "outputs": [
    {
     "data": {
      "image/png": "[encoded data removed]",
      "text/plain": [
       "<Figure size 544.252x84.5291 with 3 Axes>"
      ]
     },
     "metadata": {},
     "output_type": "display_data"
    }
   ],
   "source": [
    "# Poisson process\n",
    "np.random.seed(10)\n",
    "CB1_rate = 150. # Hz\n",
    "gCB10 = 10\n",
    "tstop, dt = 4., 1e-4\n",
    "t = np.arange(int(tstop/dt))*dt\n",
    "pre_events = np.cumsum(np.random.exponential(1./CB1_rate, int(1.5*tstop*CB1_rate)))\n",
    "pre_events = pre_events[pre_events<tstop]\n",
    "\n",
    "# synaptic integration\n",
    "release_prob, Tau = 0.5, 5e-3\n",
    "shifts = [0, 1, 2, 3, 3.5]\n",
    "Nlevels = 4\n",
    "signalling, current = 0*t, 0*t\n",
    "\n",
    "for i, s in enumerate(shifts):\n",
    "    signalling[t>s] = i/(len(shifts)-1)\n",
    "\n",
    "fig, [ax1,ax2,ax3] = ge.figure(axes_extents=[[[1,2]],\n",
    "                                        [[1,8]],\n",
    "                                        [[1,6]]],\n",
    "                    figsize=(2.,.07), left=3)\n",
    "\n",
    "sizes = {'spikes':1, 'current':3, 'signalling':3}\n",
    "for e in pre_events:\n",
    "    ax1.plot([e,e], [0,1], color=ge.orange, lw=0.5)\n",
    "    it = int(e/dt)\n",
    "    if np.random.uniform(0,1)<(release_prob*(1-signalling[it])):\n",
    "        current[it:it+int(1/dt)] += gCB10*np.exp(-(t[it:it+int(1/dt)]-t[it])/Tau) \n",
    "ax2.plot(t, current, color=ge.dimgrey, lw=1)\n",
    "ax3.plot(t, signalling, lw=1, color=ge.dimgrey)\n",
    "ax3.plot(t, 0*t, ':', lw=0.5, color=ge.dimgrey, label='V1')\n",
    "ax3.plot(t, 0*t+0.5, ':', lw=0.5, color=ge.dimgrey, label='V2')\n",
    "ax3.legend(loc=(1,0), frameon=False)\n",
    "    \n",
    "ge.draw_bar_scales(ax3, Xbar=0.2, Xbar_label='0.2s', Ybar=1e-12)\n",
    "ge.set_plot(ax1, [])\n",
    "ge.set_plot(ax2, ['left'], ylabel='$g_{CB1}$ (nS)')\n",
    "ge.set_plot(ax3, ['left'], ylabel='$s_{CB1}$', yticks=[0,0.5,1])\n",
    "ge.annotate(ax1, 'CB1 spike train', (0.5, 1), ha='center', color=ge.orange)\n",
    "ge.save_on_desktop(fig, 'fig.svg')"
   ]
  },
  {
   "cell_type": "code",
   "execution_count": null,
   "metadata": {},
   "outputs": [],
   "source": []
  }
 ],
 "metadata": {
  "kernelspec": {
   "display_name": "Python 3 (ipykernel)",
   "language": "python",
   "name": "python3"
  },
  "language_info": {
   "codemirror_mode": {
    "name": "ipython",
    "version": 3
   },
   "file_extension": ".py",
   "mimetype": "text/x-python",
   "name": "python",
   "nbconvert_exporter": "python",
   "pygments_lexer": "ipython3",
   "version": "3.8.3"
  }
 },
 "nbformat": 4,
 "nbformat_minor": 4
}
